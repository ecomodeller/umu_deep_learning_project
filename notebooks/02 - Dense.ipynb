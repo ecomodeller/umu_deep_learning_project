{
 "cells": [
  {
   "cell_type": "code",
   "execution_count": 43,
   "metadata": {},
   "outputs": [],
   "source": [
    "import matplotlib.pyplot as plt\n",
    "import numpy as np\n",
    "import pandas as pd\n",
    "\n",
    "import tensorflow as tf"
   ]
  },
  {
   "cell_type": "markdown",
   "metadata": {},
   "source": [
    "# Load data"
   ]
  },
  {
   "cell_type": "code",
   "execution_count": 44,
   "metadata": {},
   "outputs": [],
   "source": [
    "train_df = pd.read_csv(\"../data/final/train.csv\", parse_dates=True, index_col=0)\n",
    "val_df = pd.read_csv(\"../data/final/val.csv\", parse_dates=True, index_col=0)\n",
    "test_df = pd.read_csv(\"../data/final/test.csv\", parse_dates=True, index_col=0)"
   ]
  },
  {
   "cell_type": "code",
   "execution_count": 45,
   "metadata": {},
   "outputs": [
    {
     "data": {
      "text/html": [
       "<div>\n",
       "<style scoped>\n",
       "    .dataframe tbody tr th:only-of-type {\n",
       "        vertical-align: middle;\n",
       "    }\n",
       "\n",
       "    .dataframe tbody tr th {\n",
       "        vertical-align: top;\n",
       "    }\n",
       "\n",
       "    .dataframe thead th {\n",
       "        text-align: right;\n",
       "    }\n",
       "</style>\n",
       "<table border=\"1\" class=\"dataframe\">\n",
       "  <thead>\n",
       "    <tr style=\"text-align: right;\">\n",
       "      <th></th>\n",
       "      <th>hs</th>\n",
       "      <th>tp</th>\n",
       "      <th>mwd</th>\n",
       "    </tr>\n",
       "    <tr>\n",
       "      <th>Datum Tid (UTC)</th>\n",
       "      <th></th>\n",
       "      <th></th>\n",
       "      <th></th>\n",
       "    </tr>\n",
       "  </thead>\n",
       "  <tbody>\n",
       "    <tr>\n",
       "      <th>2007-07-01 00:00:00</th>\n",
       "      <td>0.60</td>\n",
       "      <td>4.00</td>\n",
       "      <td>236.25</td>\n",
       "    </tr>\n",
       "    <tr>\n",
       "      <th>2007-07-01 01:00:00</th>\n",
       "      <td>0.58</td>\n",
       "      <td>3.92</td>\n",
       "      <td>241.88</td>\n",
       "    </tr>\n",
       "    <tr>\n",
       "      <th>2007-07-01 02:00:00</th>\n",
       "      <td>0.59</td>\n",
       "      <td>3.88</td>\n",
       "      <td>247.50</td>\n",
       "    </tr>\n",
       "    <tr>\n",
       "      <th>2007-07-01 03:00:00</th>\n",
       "      <td>0.67</td>\n",
       "      <td>3.85</td>\n",
       "      <td>241.88</td>\n",
       "    </tr>\n",
       "    <tr>\n",
       "      <th>2007-07-01 04:00:00</th>\n",
       "      <td>0.70</td>\n",
       "      <td>4.12</td>\n",
       "      <td>247.50</td>\n",
       "    </tr>\n",
       "  </tbody>\n",
       "</table>\n",
       "</div>"
      ],
      "text/plain": [
       "                       hs    tp     mwd\n",
       "Datum Tid (UTC)                        \n",
       "2007-07-01 00:00:00  0.60  4.00  236.25\n",
       "2007-07-01 01:00:00  0.58  3.92  241.88\n",
       "2007-07-01 02:00:00  0.59  3.88  247.50\n",
       "2007-07-01 03:00:00  0.67  3.85  241.88\n",
       "2007-07-01 04:00:00  0.70  4.12  247.50"
      ]
     },
     "execution_count": 45,
     "metadata": {},
     "output_type": "execute_result"
    }
   ],
   "source": [
    "train_df.head()"
   ]
  },
  {
   "cell_type": "markdown",
   "metadata": {},
   "source": [
    "# Feature engineering"
   ]
  },
  {
   "cell_type": "code",
   "execution_count": 46,
   "metadata": {},
   "outputs": [],
   "source": [
    "def angle_to_vector(df):\n",
    "    # Convert to radians.\n",
    "    wd_rad = df.pop('mwd')*np.pi / 180\n",
    "\n",
    "    # Calculate the wind x and y components.\n",
    "    df['wx'] = np.cos(wd_rad)\n",
    "    df['wy'] = np.sin(wd_rad)"
   ]
  },
  {
   "cell_type": "code",
   "execution_count": 47,
   "metadata": {},
   "outputs": [],
   "source": [
    "angle_to_vector(train_df)\n",
    "angle_to_vector(val_df)\n",
    "angle_to_vector(test_df)"
   ]
  },
  {
   "cell_type": "code",
   "execution_count": 48,
   "metadata": {},
   "outputs": [],
   "source": [
    "train_mean = train_df.mean()\n",
    "train_std = train_df.std()\n",
    "\n",
    "train_df = (train_df - train_mean) / train_std\n",
    "val_df = (val_df - train_mean) / train_std\n",
    "test_df = (test_df - train_mean) / train_std"
   ]
  },
  {
   "cell_type": "code",
   "execution_count": 49,
   "metadata": {},
   "outputs": [],
   "source": [
    "def create_multi_target(df, lookback=24, horizon=24):\n",
    "  df = df.copy() # don't mess up orginal\n",
    "\n",
    "  n_rows = df.shape[0]\n",
    "  n_features = df.shape[1]\n",
    "  n_examples = n_rows - lookback - horizon\n",
    "\n",
    "  X = np.zeros(shape=(n_examples, lookback, n_features))\n",
    "  y = np.zeros(shape=(n_examples, horizon))\n",
    "  for j in range(n_examples):\n",
    "            X[j] = df.iloc[j:j+lookback]\n",
    "            y[j] = df['hs'].iloc[j+lookback:j+horizon+lookback]\n",
    "  return X,y\n",
    "\n",
    "X_train, y_train = create_multi_target(train_df, horizon=6)\n",
    "X_val, y_val = create_multi_target(val_df, horizon=6)\n",
    "X_test, y_test = create_multi_target(test_df, horizon=6)"
   ]
  },
  {
   "cell_type": "code",
   "execution_count": 63,
   "metadata": {},
   "outputs": [
    {
     "data": {
      "text/plain": [
       "6.18581309622218"
      ]
     },
     "execution_count": 63,
     "metadata": {},
     "output_type": "execute_result"
    }
   ],
   "source": [
    "y_train.max()"
   ]
  },
  {
   "cell_type": "markdown",
   "metadata": {},
   "source": [
    "# Dense model"
   ]
  },
  {
   "cell_type": "code",
   "execution_count": 82,
   "metadata": {},
   "outputs": [
    {
     "name": "stdout",
     "output_type": "stream",
     "text": [
      "Epoch 1/20\n",
      "172/172 [==============================] - 3s 17ms/step - loss: 0.3259 - mean_absolute_error: 0.4044 - val_loss: 0.1103 - val_mean_absolute_error: 0.2433\n",
      "Epoch 2/20\n",
      "172/172 [==============================] - 3s 18ms/step - loss: 0.1634 - mean_absolute_error: 0.2827 - val_loss: 0.1006 - val_mean_absolute_error: 0.2289\n",
      "Epoch 3/20\n",
      "172/172 [==============================] - 3s 20ms/step - loss: 0.1580 - mean_absolute_error: 0.2739 - val_loss: 0.0988 - val_mean_absolute_error: 0.2273\n",
      "Epoch 4/20\n",
      "172/172 [==============================] - 3s 19ms/step - loss: 0.1421 - mean_absolute_error: 0.2611 - val_loss: 0.0995 - val_mean_absolute_error: 0.2320\n",
      "Epoch 5/20\n",
      "172/172 [==============================] - 3s 19ms/step - loss: 0.1431 - mean_absolute_error: 0.2585 - val_loss: 0.0951 - val_mean_absolute_error: 0.2188\n",
      "Epoch 6/20\n",
      "172/172 [==============================] - 3s 19ms/step - loss: 0.1290 - mean_absolute_error: 0.2451 - val_loss: 0.0940 - val_mean_absolute_error: 0.2060\n",
      "Epoch 7/20\n",
      "172/172 [==============================] - 3s 19ms/step - loss: 0.1300 - mean_absolute_error: 0.2464 - val_loss: 0.0970 - val_mean_absolute_error: 0.2197\n",
      "Epoch 8/20\n",
      "172/172 [==============================] - 3s 19ms/step - loss: 0.1302 - mean_absolute_error: 0.2468 - val_loss: 0.0918 - val_mean_absolute_error: 0.2112\n",
      "Epoch 9/20\n",
      "172/172 [==============================] - 3s 19ms/step - loss: 0.1312 - mean_absolute_error: 0.2455 - val_loss: 0.1106 - val_mean_absolute_error: 0.2484\n",
      "Epoch 10/20\n",
      "172/172 [==============================] - 3s 19ms/step - loss: 0.1301 - mean_absolute_error: 0.2472 - val_loss: 0.0956 - val_mean_absolute_error: 0.2133\n",
      "Epoch 11/20\n",
      "172/172 [==============================] - 3s 19ms/step - loss: 0.1310 - mean_absolute_error: 0.2459 - val_loss: 0.0936 - val_mean_absolute_error: 0.2108\n"
     ]
    }
   ],
   "source": [
    "dense_model = tf.keras.models.Sequential([\n",
    "    tf.keras.layers.Flatten(),\n",
    "    tf.keras.layers.Dense(1024, activation='relu'),\n",
    "    tf.keras.layers.Dropout(0.5),\n",
    "    tf.keras.layers.Dense(1024, activation='relu'),\n",
    "    tf.keras.layers.Dropout(0.5),\n",
    "    tf.keras.layers.Dense(units=6)\n",
    "])\n",
    "\n",
    "early_stopping = tf.keras.callbacks.EarlyStopping(monitor='val_loss',\n",
    "                                                    patience=3,\n",
    "                                                    mode='min',\n",
    "                                                  restore_best_weights=True\n",
    "                                                 )\n",
    "\n",
    "dense_model.compile(loss=tf.losses.MeanSquaredError(),\n",
    "              optimizer=tf.optimizers.Adam(),\n",
    "              metrics=[tf.metrics.MeanAbsoluteError()])\n",
    "\n",
    "history = dense_model.fit(X_train, y_train, epochs=20,\n",
    "                          batch_size=128,\n",
    "                      validation_data=(X_val,y_val),\n",
    "                      callbacks=[early_stopping])"
   ]
  },
  {
   "cell_type": "code",
   "execution_count": 83,
   "metadata": {},
   "outputs": [
    {
     "data": {
      "text/plain": [
       "<matplotlib.legend.Legend at 0x1d7c91791c0>"
      ]
     },
     "execution_count": 83,
     "metadata": {},
     "output_type": "execute_result"
    },
    {
     "data": {
      "image/png": "[encoded data removed]",
      "text/plain": [
       "<Figure size 432x288 with 1 Axes>"
      ]
     },
     "metadata": {
      "needs_background": "light"
     },
     "output_type": "display_data"
    }
   ],
   "source": [
    "plt.plot(history.history['loss'], label='Train')\n",
    "plt.plot(history.history['val_loss'], label='Validation')\n",
    "plt.legend()"
   ]
  },
  {
   "cell_type": "code",
   "execution_count": 84,
   "metadata": {},
   "outputs": [
    {
     "name": "stdout",
     "output_type": "stream",
     "text": [
      "817/817 [==============================] - 2s 3ms/step - loss: 0.1077 - mean_absolute_error: 0.2174\n"
     ]
    },
    {
     "data": {
      "text/plain": [
       "[0.10766378045082092, 0.21739806234836578]"
      ]
     },
     "execution_count": 84,
     "metadata": {},
     "output_type": "execute_result"
    }
   ],
   "source": [
    "dense_model.evaluate(X_test, y_test)"
   ]
  },
  {
   "cell_type": "code",
   "execution_count": 107,
   "metadata": {},
   "outputs": [],
   "source": [
    "def plot_forecast(idx=0):\n",
    "  plt.scatter(range(-23,1),X_test[idx,:,0], label='X')\n",
    "  plt.plot(range(1,7),y_test[idx], label='y',linewidth=4)\n",
    "  plt.plot(range(1,7),dense_model.predict(X_test[[idx]])[0], label='dense')\n",
    "  plt.legend(loc='upper left')\n",
    "  plt.ylabel(\"Normalized wave height\")\n",
    "  plt.xlabel(\"Relative time (h)\")\n",
    "  plt.ylim([y_train.min(),y_train.max()])"
   ]
  },
  {
   "cell_type": "code",
   "execution_count": 108,
   "metadata": {},
   "outputs": [
    {
     "data": {
      "image/png": "[encoded data removed]",
      "text/plain": [
       "<Figure size 432x288 with 1 Axes>"
      ]
     },
     "metadata": {
      "needs_background": "light"
     },
     "output_type": "display_data"
    }
   ],
   "source": [
    "plot_forecast(5017)"
   ]
  },
  {
   "cell_type": "code",
   "execution_count": 109,
   "metadata": {},
   "outputs": [
    {
     "data": {
      "image/png": "[encoded data removed]",
      "text/plain": [
       "<Figure size 432x288 with 1 Axes>"
      ]
     },
     "metadata": {
      "needs_background": "light"
     },
     "output_type": "display_data"
    }
   ],
   "source": [
    "plot_forecast(26115)"
   ]
  },
  {
   "cell_type": "code",
   "execution_count": 110,
   "metadata": {},
   "outputs": [
    {
     "data": {
      "image/png": "[encoded data removed]",
      "text/plain": [
       "<Figure size 432x288 with 1 Axes>"
      ]
     },
     "metadata": {
      "needs_background": "light"
     },
     "output_type": "display_data"
    }
   ],
   "source": [
    "plot_forecast(2611)"
   ]
  },
  {
   "cell_type": "code",
   "execution_count": 111,
   "metadata": {},
   "outputs": [
    {
     "data": {
      "image/png": "[encoded data removed]",
      "text/plain": [
       "<Figure size 432x288 with 1 Axes>"
      ]
     },
     "metadata": {
      "needs_background": "light"
     },
     "output_type": "display_data"
    }
   ],
   "source": [
    "plot_forecast(2612)"
   ]
  },
  {
   "cell_type": "markdown",
   "metadata": {},
   "source": [
    "# MC Dropout"
   ]
  },
  {
   "cell_type": "code",
   "execution_count": 121,
   "metadata": {},
   "outputs": [],
   "source": [
    "nsamples = 100\n",
    "nexamples = len(y_test)\n",
    "horizon = 6\n",
    "y_pred_all = np.zeros(shape=(nsamples,nexamples,horizon))\n",
    "\n",
    "for i in range(nsamples):\n",
    "    y_pred_all[i] =dense_model(X_test, training=True)"
   ]
  },
  {
   "cell_type": "code",
   "execution_count": 124,
   "metadata": {},
   "outputs": [
    {
     "data": {
      "text/plain": [
       "(-1.2089528601145143, 6.18581309622218)"
      ]
     },
     "execution_count": 124,
     "metadata": {},
     "output_type": "execute_result"
    },
    {
     "data": {
      "image/png": "[encoded data removed]",
      "text/plain": [
       "<Figure size 432x288 with 1 Axes>"
      ]
     },
     "metadata": {
      "needs_background": "light"
     },
     "output_type": "display_data"
    }
   ],
   "source": [
    "idx = 26115\n",
    "\n",
    "plt.scatter(range(-23,1),X_test[idx,:,0], label='X')\n",
    "plt.plot(range(1,7),y_test[idx], label='y',linewidth=4)\n",
    "plt.plot(range(1,7),y_pred_all[0,idx,:], label='0')\n",
    "plt.plot(range(1,7),y_pred_all[1,idx,:], label='1')\n",
    "plt.legend(loc='upper left')\n",
    "plt.ylabel(\"Normalized wave height\")\n",
    "plt.xlabel(\"Relative time (h)\")\n",
    "plt.ylim([y_train.min(),y_train.max()])"
   ]
  },
  {
   "cell_type": "code",
   "execution_count": 127,
   "metadata": {},
   "outputs": [],
   "source": [
    "y_pred_all_min = y_pred_all.min(axis=0)\n",
    "y_pred_all_max = y_pred_all.max(axis=0)\n",
    "y_pred_all_mean = y_pred_all.mean(axis=0)"
   ]
  },
  {
   "cell_type": "code",
   "execution_count": 131,
   "metadata": {},
   "outputs": [
    {
     "data": {
      "text/plain": [
       "(-1.2089528601145143, 6.18581309622218)"
      ]
     },
     "execution_count": 131,
     "metadata": {},
     "output_type": "execute_result"
    },
    {
     "data": {
      "image/png": "[encoded data removed]",
      "text/plain": [
       "<Figure size 432x288 with 1 Axes>"
      ]
     },
     "metadata": {
      "needs_background": "light"
     },
     "output_type": "display_data"
    }
   ],
   "source": [
    "idx = 26115\n",
    "\n",
    "plt.scatter(range(-23,1),X_test[idx,:,0], label='X')\n",
    "plt.scatter(range(1,7),y_test[idx], label='true',marker='+')\n",
    "plt.plot(range(1,7),y_pred_all_min[idx,:], label='Min')\n",
    "plt.plot(range(1,7),y_pred_all_mean[idx,:], label='Avg', linewidth=2)\n",
    "plt.plot(range(1,7),y_pred_all_max[idx,:], label='Max')\n",
    "plt.legend(loc='upper left')\n",
    "plt.ylabel(\"Normalized wave height\")\n",
    "plt.xlabel(\"Relative time (h)\")\n",
    "plt.ylim([y_train.min(),y_train.max()])"
   ]
  },
  {
   "cell_type": "code",
   "execution_count": 133,
   "metadata": {},
   "outputs": [
    {
     "data": {
      "text/plain": [
       "(-1.2089528601145143, 6.18581309622218)"
      ]
     },
     "execution_count": 133,
     "metadata": {},
     "output_type": "execute_result"
    },
    {
     "data": {
      "image/png": "[encoded data removed]",
      "text/plain": [
       "<Figure size 432x288 with 1 Axes>"
      ]
     },
     "metadata": {
      "needs_background": "light"
     },
     "output_type": "display_data"
    }
   ],
   "source": [
    "idx = 2610\n",
    "\n",
    "plt.scatter(range(-23,1),X_test[idx,:,0], label='X')\n",
    "plt.scatter(range(1,7),y_test[idx], label='true',marker='+')\n",
    "plt.plot(range(1,7),y_pred_all_min[idx,:], label='Min')\n",
    "plt.plot(range(1,7),y_pred_all_mean[idx,:], label='Avg', linewidth=2)\n",
    "plt.plot(range(1,7),y_pred_all_max[idx,:], label='Max')\n",
    "plt.legend(loc='upper left')\n",
    "plt.ylabel(\"Normalized wave height\")\n",
    "plt.xlabel(\"Relative time (h)\")\n",
    "plt.ylim([y_train.min(),y_train.max()])"
   ]
  },
  {
   "cell_type": "code",
   "execution_count": 137,
   "metadata": {},
   "outputs": [
    {
     "data": {
      "text/plain": [
       "(-1.2089528601145143, 6.18581309622218)"
      ]
     },
     "execution_count": 137,
     "metadata": {},
     "output_type": "execute_result"
    },
    {
     "data": {
      "image/png": "[encoded data removed]",
      "text/plain": [
       "<Figure size 432x288 with 1 Axes>"
      ]
     },
     "metadata": {
      "needs_background": "light"
     },
     "output_type": "display_data"
    }
   ],
   "source": [
    "idx = 20000\n",
    "\n",
    "plt.scatter(range(-23,1),X_test[idx,:,0], label='X')\n",
    "plt.scatter(range(1,7),y_test[idx], label='true',marker='+')\n",
    "plt.plot(range(1,7),y_pred_all_min[idx,:], label='Min')\n",
    "plt.plot(range(1,7),y_pred_all_mean[idx,:], label='Avg', linewidth=2)\n",
    "plt.plot(range(1,7),y_pred_all_max[idx,:], label='Max')\n",
    "plt.legend(loc='upper left')\n",
    "plt.ylabel(\"Normalized wave height\")\n",
    "plt.xlabel(\"Relative time (h)\")\n",
    "plt.ylim([y_train.min(),y_train.max()])"
   ]
  },
  {
   "cell_type": "code",
   "execution_count": 142,
   "metadata": {},
   "outputs": [
    {
     "data": {
      "text/plain": [
       "(array([ 1.,  3.,  2.,  8., 13., 20., 24., 15.,  8.,  6.]),\n",
       " array([-0.93198591, -0.87250944, -0.81303297, -0.75355649, -0.69408002,\n",
       "        -0.63460355, -0.57512707, -0.5156506 , -0.45617412, -0.39669765,\n",
       "        -0.33722118]),\n",
       " <BarContainer object of 10 artists>)"
      ]
     },
     "execution_count": 142,
     "metadata": {},
     "output_type": "execute_result"
    },
    {
     "data": {
      "image/png": "[encoded data removed]",
      "text/plain": [
       "<Figure size 432x288 with 1 Axes>"
      ]
     },
     "metadata": {
      "needs_background": "light"
     },
     "output_type": "display_data"
    }
   ],
   "source": [
    "plt.hist(y_pred_all[:,idx,5])"
   ]
  },
  {
   "cell_type": "code",
   "execution_count": 146,
   "metadata": {},
   "outputs": [
    {
     "data": {
      "text/plain": [
       "(array([54852., 37602., 18558., 11490.,  5412.,  2364.,   798.,   342.,\n",
       "           90.,    72.]),\n",
       " array([-1.20895286, -0.46947626,  0.27000033,  1.00947693,  1.74895352,\n",
       "         2.48843012,  3.22790671,  3.96738331,  4.7068599 ,  5.4463365 ,\n",
       "         6.1858131 ]),\n",
       " <BarContainer object of 10 artists>)"
      ]
     },
     "execution_count": 146,
     "metadata": {},
     "output_type": "execute_result"
    },
    {
     "data": {
      "image/png": "[encoded data removed]",
      "text/plain": [
       "<Figure size 432x288 with 1 Axes>"
      ]
     },
     "metadata": {
      "needs_background": "light"
     },
     "output_type": "display_data"
    }
   ],
   "source": [
    "plt.hist(y_train.flatten())"
   ]
  },
  {
   "cell_type": "code",
   "execution_count": null,
   "metadata": {},
   "outputs": [],
   "source": []
  }
 ],
 "metadata": {
  "kernelspec": {
   "display_name": "Python 3",
   "language": "python",
   "name": "python3"
  },
  "language_info": {
   "codemirror_mode": {
    "name": "ipython",
    "version": 3
   },
   "file_extension": ".py",
   "mimetype": "text/x-python",
   "name": "python",
   "nbconvert_exporter": "python",
   "pygments_lexer": "ipython3",
   "version": "3.8.5"
  }
 },
 "nbformat": 4,
 "nbformat_minor": 4
}
